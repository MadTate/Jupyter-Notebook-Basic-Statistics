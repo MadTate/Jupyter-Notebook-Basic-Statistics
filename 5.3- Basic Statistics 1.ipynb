{
 "cells": [
  {
   "cell_type": "code",
   "execution_count": 1,
   "id": "e13a9409",
   "metadata": {},
   "outputs": [],
   "source": [
    "import numpy as np"
   ]
  },
  {
   "cell_type": "code",
   "execution_count": 2,
   "id": "ff506e82",
   "metadata": {},
   "outputs": [],
   "source": [
    "import matplotlib.pyplot as plt"
   ]
  },
  {
   "cell_type": "code",
   "execution_count": 3,
   "id": "a1edf0a4",
   "metadata": {},
   "outputs": [],
   "source": [
    "data = np.random.randn(1000)"
   ]
  },
  {
   "cell_type": "code",
   "execution_count": 4,
   "id": "d029c224",
   "metadata": {},
   "outputs": [
    {
     "name": "stdout",
     "output_type": "stream",
     "text": [
      "3.4953292362699604\n",
      "-2.9893115072831247\n"
     ]
    }
   ],
   "source": [
    "max=np.max(data)\n",
    "print(max)\n",
    "min=np.min(data)\n",
    "print(min)"
   ]
  },
  {
   "cell_type": "code",
   "execution_count": 5,
   "id": "92684996",
   "metadata": {},
   "outputs": [
    {
     "name": "stdout",
     "output_type": "stream",
     "text": [
      "-0.01572989851305292\n"
     ]
    }
   ],
   "source": [
    "mean=np.mean(data)\n",
    "print(mean)"
   ]
  },
  {
   "cell_type": "code",
   "execution_count": 6,
   "id": "9398535d",
   "metadata": {},
   "outputs": [
    {
     "name": "stdout",
     "output_type": "stream",
     "text": [
      "0.9678939478636173\n",
      "0.9838160132177242\n"
     ]
    }
   ],
   "source": [
    "variance=np.var(data)\n",
    "print(variance)\n",
    "standarddev=np.std(data)\n",
    "print(standarddev)"
   ]
  },
  {
   "cell_type": "code",
   "execution_count": 7,
   "id": "21c5216d",
   "metadata": {},
   "outputs": [
    {
     "name": "stdout",
     "output_type": "stream",
     "text": [
      "-0.06812268057846121\n"
     ]
    }
   ],
   "source": [
    "median=np.median(data)\n",
    "print(median)"
   ]
  },
  {
   "cell_type": "code",
   "execution_count": 8,
   "id": "70cb8370",
   "metadata": {},
   "outputs": [
    {
     "data": {
      "text/plain": [
       "<BarContainer object of 10 artists>"
      ]
     },
     "execution_count": 8,
     "metadata": {},
     "output_type": "execute_result"
    },
    {
     "data": {
      "image/png": "[encoded data removed]",
      "text/plain": [
       "<Figure size 432x288 with 1 Axes>"
      ]
     },
     "metadata": {
      "needs_background": "light"
     },
     "output_type": "display_data"
    }
   ],
   "source": [
    "plt.figure()\n",
    "hist, edges = np.histogram(data)\n",
    "plt.bar(edges [:-1], hist, width=edges [1:] -edges[:-1])"
   ]
  },
  {
   "cell_type": "code",
   "execution_count": null,
   "id": "880c6240",
   "metadata": {},
   "outputs": [],
   "source": []
  }
 ],
 "metadata": {
  "kernelspec": {
   "display_name": "Python 3",
   "language": "python",
   "name": "python3"
  },
  "language_info": {
   "codemirror_mode": {
    "name": "ipython",
    "version": 3
   },
   "file_extension": ".py",
   "mimetype": "text/x-python",
   "name": "python",
   "nbconvert_exporter": "python",
   "pygments_lexer": "ipython3",
   "version": "3.8.8"
  }
 },
 "nbformat": 4,
 "nbformat_minor": 5
}
